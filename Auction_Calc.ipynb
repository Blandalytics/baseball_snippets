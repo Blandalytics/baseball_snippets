{
  "nbformat": 4,
  "nbformat_minor": 0,
  "metadata": {
    "colab": {
      "provenance": [],
      "authorship_tag": "ABX9TyOI44iO7jYTLTdje1xouVNP",
      "include_colab_link": true
    },
    "kernelspec": {
      "name": "python3",
      "display_name": "Python 3"
    },
    "language_info": {
      "name": "python"
    }
  },
  "cells": [
    {
      "cell_type": "markdown",
      "metadata": {
        "id": "view-in-github",
        "colab_type": "text"
      },
      "source": [
        "<a href=\"https://colab.research.google.com/github/Blandalytics/baseball_snippets/blob/main/Auction_Calc.ipynb\" target=\"_parent\"><img src=\"https://colab.research.google.com/assets/colab-badge.svg\" alt=\"Open In Colab\"/></a>"
      ]
    },
    {
      "cell_type": "markdown",
      "source": [
        "# Install packages"
      ],
      "metadata": {
        "id": "2byCFdx6EiKa"
      }
    },
    {
      "cell_type": "code",
      "execution_count": 1,
      "metadata": {
        "id": "s8TghzxS5Cp6"
      },
      "outputs": [],
      "source": [
        "import pandas as pd\n",
        "import numpy as np"
      ]
    },
    {
      "cell_type": "markdown",
      "source": [
        "# Definitions"
      ],
      "metadata": {
        "id": "cqYuraq25MwH"
      }
    },
    {
      "cell_type": "markdown",
      "source": [
        "User-defined league settings and value settings. Default settings are:\n",
        "- Teams: 12\n",
        "- Number of Hitters: 10\n",
        "- Number of Pitchers: 8\n",
        "- Number of Bench players: 5\n",
        "- Number of Catchers: 1\n",
        "\n",
        "- Per-Team Draft Budget: \\$260\n",
        "- Minimum Bid: \\$1\n",
        "\n",
        "- Hitter Split: 65%"
      ],
      "metadata": {
        "id": "71AOozP0Ekcv"
      }
    },
    {
      "cell_type": "code",
      "source": [
        "# League Settings\n",
        "TEAMS = 12\n",
        "HITTERS = 10\n",
        "PITCHERS = 8\n",
        "BENCH = 5\n",
        "CATCHERS = 1\n",
        "MIN_BID = 1\n",
        "BUDGET = 260\n",
        "HITTER_SPLIT = 0.65"
      ],
      "metadata": {
        "id": "sNeUlN8-5DNY"
      },
      "execution_count": 2,
      "outputs": []
    },
    {
      "cell_type": "markdown",
      "source": [
        "Replacement-level players are used to set our draftable subset of players. This will be smaller for leagues with fewer teams or players per team, and larger for leagues with more teams and more players per team.\n",
        "\n",
        "This initial sample is defined as 110% of the number of drafted players, for both hitters and pitchers. Bench spots are evenly distributed between hitters and pitchers"
      ],
      "metadata": {
        "id": "6-ND3jxuFOss"
      }
    },
    {
      "cell_type": "code",
      "source": [
        "# Derivative Definitions\n",
        "PITCHER_SPLIT = 1 - HITTER_SPLIT\n",
        "\n",
        "hitters_above_replacement = int(round(TEAMS * (HITTERS + BENCH/2) * 1.1,0))\n",
        "pitchers_above_replacement = int(round(TEAMS * (PITCHERS + BENCH/2) * 1.1,0))\n",
        "print(f'# of Replacement-Level Hitters : {hitters_above_replacement:.0f}')\n",
        "print(f'# of Replacement-Level Pitchers : {pitchers_above_replacement:.0f}')"
      ],
      "metadata": {
        "colab": {
          "base_uri": "https://localhost:8080/"
        },
        "id": "-dZnlV9YEnO5",
        "outputId": "83a58ff7-5025-4b57-936c-d8c9e0edcd77"
      },
      "execution_count": 3,
      "outputs": [
        {
          "output_type": "stream",
          "name": "stdout",
          "text": [
            "# of Replacement-Level Hitters : 165\n",
            "# of Replacement-Level Pitchers : 139\n"
          ]
        }
      ]
    },
    {
      "cell_type": "markdown",
      "source": [
        "Scoring categories are based on league settings. Default are `R`,`HR`,`RBI`,`SB`, and `BA` for hitters, and `W`,`K`,`SV`,`ERA`, and `WHIP` for pitchers.\n",
        "\n",
        "Rate categories include: `BA`, `OBP`, `SLG`, and `OPS` for hitters, and `ERA`, `WHIP`, `K/9`, `BB/9`, `HR/9`, `K/BB`, `K%`, `BB%`, and `K-BB%` for pitchers. Volume categories are any not listed as rate categories.\n",
        "\n",
        "For certain categories, a lower number is better. These are `K` and `CS` for hitters, and `BB`, `H`, `ER`, `BS`, `ERA`, `WHIP`, `L`, `HBP`, `HR`, `BB/9`, `HR/9` and `BB%` for pitchers."
      ],
      "metadata": {
        "id": "tXGoU3WuF6CW"
      }
    },
    {
      "cell_type": "code",
      "source": [
        "# Define Scoring Categories - Hitting\n",
        "volume_scoring_categories_h = ['R','HR','RBI','SB']\n",
        "rate_scoring_categories_h = ['AVG'] # 'AVG' is the same thing as 'BA'\n",
        "scoring_categories_h = volume_scoring_categories_h + rate_scoring_categories_h\n",
        "inverted_categories_h = ['K','CS']"
      ],
      "metadata": {
        "id": "MUMmgz_K7J7r"
      },
      "execution_count": 4,
      "outputs": []
    },
    {
      "cell_type": "code",
      "source": [
        "# Define Scoring Categories - Pitching\n",
        "volume_scoring_categories_p = ['W','K','SV']\n",
        "rate_scoring_categories_p = ['ERA','WHIP']\n",
        "scoring_categories_p = volume_scoring_categories_p + rate_scoring_categories_p\n",
        "inverted_categories_p = ['BB','H','ER','BS','ERA','WHIP','L','HBP','HR','BB/9','HR/9','BB%']"
      ],
      "metadata": {
        "id": "oVqrbCGa7MrA"
      },
      "execution_count": 5,
      "outputs": []
    },
    {
      "cell_type": "markdown",
      "source": [
        "## Z-Score Functions"
      ],
      "metadata": {
        "id": "9lzpFlddE1K_"
      }
    },
    {
      "cell_type": "markdown",
      "source": [
        "Volume-based stats are valued using a Z-Score calculation: (value - sample mean) / sample standard deviation"
      ],
      "metadata": {
        "id": "jh_c1tCIE7IZ"
      }
    },
    {
      "cell_type": "code",
      "source": [
        "def volume_z_score(feat_col, population, sample):\n",
        "    return (population[feat_col] - sample[feat_col].mean())/sample[feat_col].std()"
      ],
      "metadata": {
        "id": "ySTPimwh5Ka1"
      },
      "execution_count": 6,
      "outputs": []
    },
    {
      "cell_type": "markdown",
      "source": [
        "For rate stats, this value is based on the impact of the player's performance AND the playing time they receive.\n",
        "\n",
        "This is done by adding the total volume of the player's stat to a team of average players, and then dividing by the playing time of that same team of average players, plus the player"
      ],
      "metadata": {
        "id": "tHu-pKlpE_Wm"
      }
    },
    {
      "cell_type": "code",
      "source": [
        "def rate_z_score(feat_col, playing_time_col, population, sample, n_players):\n",
        "    population_playing_time = population[playing_time_col]\n",
        "    sample_playing_time = sample[playing_time_col]\n",
        "    league_playing_time = sample[playing_time_col].mean()\n",
        "\n",
        "    population_volume = population[feat_col].mul(population_playing_time)\n",
        "    sample_volume = sample[feat_col].mul(sample_playing_time)\n",
        "    league_volume = sample[feat_col].mean() * league_playing_time\n",
        "\n",
        "    sample_val = (sample_volume + (n_players-1) * league_volume) / (sample_playing_time + (n_players-1) * league_playing_time)\n",
        "    population_val = (population_volume + (n_players-1) * league_volume) / (population_playing_time + (n_players-1) * league_playing_time)\n",
        "\n",
        "    return (population_val - sample_val.mean())/sample_val.std()"
      ],
      "metadata": {
        "id": "ZlJHCSO95K07"
      },
      "execution_count": 7,
      "outputs": []
    },
    {
      "cell_type": "markdown",
      "source": [
        "# Hitters"
      ],
      "metadata": {
        "id": "RBF77LKo5H7s"
      }
    },
    {
      "cell_type": "code",
      "source": [
        "# Load Projections\n",
        "projections_hitters = pd.read_csv('https://docs.google.com/spreadsheets/d/1nnH9bABVxgD28KVj9Oa67bn9Kp5x2dD0nFiZ7jIfvmQ/export?gid=1029181665&format=csv')\n",
        "\n",
        "# Select Replacement-level Sample, based on playing time ('PA')\n",
        "sample_hitters  = projections_hitters.nlargest(hitters_above_replacement, 'PA')"
      ],
      "metadata": {
        "id": "nvhOnoH55Omc"
      },
      "execution_count": 8,
      "outputs": []
    },
    {
      "cell_type": "code",
      "source": [
        "# Calculate Z-Scores for Volume Stats\n",
        "projections_hitters[[x+'_val' for x in volume_scoring_categories_h]] = volume_z_score(volume_scoring_categories_h,\n",
        "                                                                                      projections_hitters,\n",
        "                                                                                      sample_hitters)\n",
        "\n",
        "# Z-Scores for Rate Stats\n",
        "for x in rate_scoring_categories_h:\n",
        "    projections_hitters[x+'_val'] = rate_z_score(x,'PA',\n",
        "                                                 projections_hitters,\n",
        "                                                 sample_hitters,\n",
        "                                                 HITTERS)\n",
        "\n",
        "# Invert relevant scoring categories\n",
        "for x in list(set(scoring_categories_h) & set(inverted_categories_h)):\n",
        "    projections_hitters[x+'_val'] = projections_hitters[x+'_val'].mul(-1)\n",
        "\n",
        "# Total unadjusted Value: sum of all scoring category Z-Scores\n",
        "projections_hitters['unadjusted_value'] = projections_hitters[[x+'_val' for x in scoring_categories_h]].sum(axis=1)"
      ],
      "metadata": {
        "id": "g56NcvkP5PWc"
      },
      "execution_count": 9,
      "outputs": []
    },
    {
      "cell_type": "code",
      "source": [
        "projections_hitters.loc[projections_hitters['Player']=='Shohei Ohtani',['Player','MLBAMID']+[x+'_val' for x in scoring_categories_h]+['unadjusted_value']].round(2)"
      ],
      "metadata": {
        "colab": {
          "base_uri": "https://localhost:8080/",
          "height": 81
        },
        "id": "0YSKvvGoH5a-",
        "outputId": "d6c6577d-c1fe-4363-88a3-1cd63c2ac671"
      },
      "execution_count": 10,
      "outputs": [
        {
          "output_type": "execute_result",
          "data": {
            "text/plain": [
              "          Player  MLBAMID  R_val  HR_val  RBI_val  SB_val  AVG_val  \\\n",
              "0  Shohei Ohtani   660271   3.48    3.44     2.33    3.11     2.45   \n",
              "\n",
              "   unadjusted_value  \n",
              "0              14.8  "
            ],
            "text/html": [
              "\n",
              "  <div id=\"df-70965b36-a9e5-4acc-8d9f-b8453d783856\" class=\"colab-df-container\">\n",
              "    <div>\n",
              "<style scoped>\n",
              "    .dataframe tbody tr th:only-of-type {\n",
              "        vertical-align: middle;\n",
              "    }\n",
              "\n",
              "    .dataframe tbody tr th {\n",
              "        vertical-align: top;\n",
              "    }\n",
              "\n",
              "    .dataframe thead th {\n",
              "        text-align: right;\n",
              "    }\n",
              "</style>\n",
              "<table border=\"1\" class=\"dataframe\">\n",
              "  <thead>\n",
              "    <tr style=\"text-align: right;\">\n",
              "      <th></th>\n",
              "      <th>Player</th>\n",
              "      <th>MLBAMID</th>\n",
              "      <th>R_val</th>\n",
              "      <th>HR_val</th>\n",
              "      <th>RBI_val</th>\n",
              "      <th>SB_val</th>\n",
              "      <th>AVG_val</th>\n",
              "      <th>unadjusted_value</th>\n",
              "    </tr>\n",
              "  </thead>\n",
              "  <tbody>\n",
              "    <tr>\n",
              "      <th>0</th>\n",
              "      <td>Shohei Ohtani</td>\n",
              "      <td>660271</td>\n",
              "      <td>3.48</td>\n",
              "      <td>3.44</td>\n",
              "      <td>2.33</td>\n",
              "      <td>3.11</td>\n",
              "      <td>2.45</td>\n",
              "      <td>14.8</td>\n",
              "    </tr>\n",
              "  </tbody>\n",
              "</table>\n",
              "</div>\n",
              "    <div class=\"colab-df-buttons\">\n",
              "\n",
              "  <div class=\"colab-df-container\">\n",
              "    <button class=\"colab-df-convert\" onclick=\"convertToInteractive('df-70965b36-a9e5-4acc-8d9f-b8453d783856')\"\n",
              "            title=\"Convert this dataframe to an interactive table.\"\n",
              "            style=\"display:none;\">\n",
              "\n",
              "  <svg xmlns=\"http://www.w3.org/2000/svg\" height=\"24px\" viewBox=\"0 -960 960 960\">\n",
              "    <path d=\"M120-120v-720h720v720H120Zm60-500h600v-160H180v160Zm220 220h160v-160H400v160Zm0 220h160v-160H400v160ZM180-400h160v-160H180v160Zm440 0h160v-160H620v160ZM180-180h160v-160H180v160Zm440 0h160v-160H620v160Z\"/>\n",
              "  </svg>\n",
              "    </button>\n",
              "\n",
              "  <style>\n",
              "    .colab-df-container {\n",
              "      display:flex;\n",
              "      gap: 12px;\n",
              "    }\n",
              "\n",
              "    .colab-df-convert {\n",
              "      background-color: #E8F0FE;\n",
              "      border: none;\n",
              "      border-radius: 50%;\n",
              "      cursor: pointer;\n",
              "      display: none;\n",
              "      fill: #1967D2;\n",
              "      height: 32px;\n",
              "      padding: 0 0 0 0;\n",
              "      width: 32px;\n",
              "    }\n",
              "\n",
              "    .colab-df-convert:hover {\n",
              "      background-color: #E2EBFA;\n",
              "      box-shadow: 0px 1px 2px rgba(60, 64, 67, 0.3), 0px 1px 3px 1px rgba(60, 64, 67, 0.15);\n",
              "      fill: #174EA6;\n",
              "    }\n",
              "\n",
              "    .colab-df-buttons div {\n",
              "      margin-bottom: 4px;\n",
              "    }\n",
              "\n",
              "    [theme=dark] .colab-df-convert {\n",
              "      background-color: #3B4455;\n",
              "      fill: #D2E3FC;\n",
              "    }\n",
              "\n",
              "    [theme=dark] .colab-df-convert:hover {\n",
              "      background-color: #434B5C;\n",
              "      box-shadow: 0px 1px 3px 1px rgba(0, 0, 0, 0.15);\n",
              "      filter: drop-shadow(0px 1px 2px rgba(0, 0, 0, 0.3));\n",
              "      fill: #FFFFFF;\n",
              "    }\n",
              "  </style>\n",
              "\n",
              "    <script>\n",
              "      const buttonEl =\n",
              "        document.querySelector('#df-70965b36-a9e5-4acc-8d9f-b8453d783856 button.colab-df-convert');\n",
              "      buttonEl.style.display =\n",
              "        google.colab.kernel.accessAllowed ? 'block' : 'none';\n",
              "\n",
              "      async function convertToInteractive(key) {\n",
              "        const element = document.querySelector('#df-70965b36-a9e5-4acc-8d9f-b8453d783856');\n",
              "        const dataTable =\n",
              "          await google.colab.kernel.invokeFunction('convertToInteractive',\n",
              "                                                    [key], {});\n",
              "        if (!dataTable) return;\n",
              "\n",
              "        const docLinkHtml = 'Like what you see? Visit the ' +\n",
              "          '<a target=\"_blank\" href=https://colab.research.google.com/notebooks/data_table.ipynb>data table notebook</a>'\n",
              "          + ' to learn more about interactive tables.';\n",
              "        element.innerHTML = '';\n",
              "        dataTable['output_type'] = 'display_data';\n",
              "        await google.colab.output.renderOutput(dataTable, element);\n",
              "        const docLink = document.createElement('div');\n",
              "        docLink.innerHTML = docLinkHtml;\n",
              "        element.appendChild(docLink);\n",
              "      }\n",
              "    </script>\n",
              "  </div>\n",
              "\n",
              "\n",
              "    </div>\n",
              "  </div>\n"
            ],
            "application/vnd.google.colaboratory.intrinsic+json": {
              "type": "dataframe",
              "summary": "{\n  \"name\": \"projections_hitters\",\n  \"rows\": 1,\n  \"fields\": [\n    {\n      \"column\": \"Player\",\n      \"properties\": {\n        \"dtype\": \"string\",\n        \"num_unique_values\": 1,\n        \"samples\": [\n          \"Shohei Ohtani\"\n        ],\n        \"semantic_type\": \"\",\n        \"description\": \"\"\n      }\n    },\n    {\n      \"column\": \"MLBAMID\",\n      \"properties\": {\n        \"dtype\": \"number\",\n        \"std\": null,\n        \"min\": 660271,\n        \"max\": 660271,\n        \"num_unique_values\": 1,\n        \"samples\": [\n          660271\n        ],\n        \"semantic_type\": \"\",\n        \"description\": \"\"\n      }\n    },\n    {\n      \"column\": \"R_val\",\n      \"properties\": {\n        \"dtype\": \"number\",\n        \"std\": null,\n        \"min\": 3.48,\n        \"max\": 3.48,\n        \"num_unique_values\": 1,\n        \"samples\": [\n          3.48\n        ],\n        \"semantic_type\": \"\",\n        \"description\": \"\"\n      }\n    },\n    {\n      \"column\": \"HR_val\",\n      \"properties\": {\n        \"dtype\": \"number\",\n        \"std\": null,\n        \"min\": 3.44,\n        \"max\": 3.44,\n        \"num_unique_values\": 1,\n        \"samples\": [\n          3.44\n        ],\n        \"semantic_type\": \"\",\n        \"description\": \"\"\n      }\n    },\n    {\n      \"column\": \"RBI_val\",\n      \"properties\": {\n        \"dtype\": \"number\",\n        \"std\": null,\n        \"min\": 2.33,\n        \"max\": 2.33,\n        \"num_unique_values\": 1,\n        \"samples\": [\n          2.33\n        ],\n        \"semantic_type\": \"\",\n        \"description\": \"\"\n      }\n    },\n    {\n      \"column\": \"SB_val\",\n      \"properties\": {\n        \"dtype\": \"number\",\n        \"std\": null,\n        \"min\": 3.11,\n        \"max\": 3.11,\n        \"num_unique_values\": 1,\n        \"samples\": [\n          3.11\n        ],\n        \"semantic_type\": \"\",\n        \"description\": \"\"\n      }\n    },\n    {\n      \"column\": \"AVG_val\",\n      \"properties\": {\n        \"dtype\": \"number\",\n        \"std\": null,\n        \"min\": 2.45,\n        \"max\": 2.45,\n        \"num_unique_values\": 1,\n        \"samples\": [\n          2.45\n        ],\n        \"semantic_type\": \"\",\n        \"description\": \"\"\n      }\n    },\n    {\n      \"column\": \"unadjusted_value\",\n      \"properties\": {\n        \"dtype\": \"number\",\n        \"std\": null,\n        \"min\": 14.8,\n        \"max\": 14.8,\n        \"num_unique_values\": 1,\n        \"samples\": [\n          14.8\n        ],\n        \"semantic_type\": \"\",\n        \"description\": \"\"\n      }\n    }\n  ]\n}"
            }
          },
          "metadata": {},
          "execution_count": 10
        }
      ]
    },
    {
      "cell_type": "markdown",
      "source": [
        "Adjust the Unadjusted Values for the lowest replacement-level player to be 0, with the adjustment depending on if the player is a Catcher or not.\n",
        "\n",
        "Catcher replacement player value is the (# of teams * # of catchers) best catcher. Subtract their Unadjusted Value from all other catchers' Unadjusted Values\n",
        "\n",
        "Non-Catcher replacement player value is the (# of teams * (# of hitters - # of catchers)) best non-catcher"
      ],
      "metadata": {
        "id": "fIJm88LLHbv0"
      }
    },
    {
      "cell_type": "code",
      "source": [
        "# Calculate Position Adjustment\n",
        "projections_hitters['is_C'] = projections_hitters['Y! Pos'].fillna('UT').str.contains('C')\n",
        "c_adj = projections_hitters.loc[projections_hitters['is_C'],'unadjusted_value'].nlargest(TEAMS * CATCHERS).min()\n",
        "non_c_adj = projections_hitters.loc[~projections_hitters['is_C'],'unadjusted_value'].nlargest(int(TEAMS * (HITTERS - CATCHERS + BENCH/2))).min()\n",
        "projections_hitters['ADJ'] = np.where(projections_hitters['is_C'],c_adj,non_c_adj)\n",
        "print(f'Catcher Position Adjustment: {c_adj:.2f}')\n",
        "print(f'Non-catcher Position Adjustment: {non_c_adj:.2f}')\n",
        "\n",
        "# Total Adjusted Hitter Value\n",
        "projections_hitters['adjusted_value'] = projections_hitters['unadjusted_value'].sub(projections_hitters['ADJ'])"
      ],
      "metadata": {
        "colab": {
          "base_uri": "https://localhost:8080/"
        },
        "id": "RYfwHtWQHYPN",
        "outputId": "0102fdad-2038-4326-f58b-b46954025e87"
      },
      "execution_count": 11,
      "outputs": [
        {
          "output_type": "stream",
          "name": "stdout",
          "text": [
            "Catcher Position Adjustment: -4.94\n",
            "Non-catcher Position Adjustment: -3.21\n"
          ]
        }
      ]
    },
    {
      "cell_type": "code",
      "source": [
        "projections_hitters.loc[projections_hitters['Player']=='William Contreras',['Player','MLBAMID','Y! Pos','unadjusted_value','ADJ','adjusted_value']].round(2)"
      ],
      "metadata": {
        "colab": {
          "base_uri": "https://localhost:8080/",
          "height": 81
        },
        "id": "zgGqaviH5Q9M",
        "outputId": "24a2e6d6-a803-491c-a37f-e420d202b332"
      },
      "execution_count": 12,
      "outputs": [
        {
          "output_type": "execute_result",
          "data": {
            "text/plain": [
              "               Player  MLBAMID Y! Pos  unadjusted_value   ADJ  adjusted_value\n",
              "38  William Contreras   661388      C              1.82 -4.94            6.76"
            ],
            "text/html": [
              "\n",
              "  <div id=\"df-f1a64d8b-9f4e-4b27-a85b-a77f9641eb98\" class=\"colab-df-container\">\n",
              "    <div>\n",
              "<style scoped>\n",
              "    .dataframe tbody tr th:only-of-type {\n",
              "        vertical-align: middle;\n",
              "    }\n",
              "\n",
              "    .dataframe tbody tr th {\n",
              "        vertical-align: top;\n",
              "    }\n",
              "\n",
              "    .dataframe thead th {\n",
              "        text-align: right;\n",
              "    }\n",
              "</style>\n",
              "<table border=\"1\" class=\"dataframe\">\n",
              "  <thead>\n",
              "    <tr style=\"text-align: right;\">\n",
              "      <th></th>\n",
              "      <th>Player</th>\n",
              "      <th>MLBAMID</th>\n",
              "      <th>Y! Pos</th>\n",
              "      <th>unadjusted_value</th>\n",
              "      <th>ADJ</th>\n",
              "      <th>adjusted_value</th>\n",
              "    </tr>\n",
              "  </thead>\n",
              "  <tbody>\n",
              "    <tr>\n",
              "      <th>38</th>\n",
              "      <td>William Contreras</td>\n",
              "      <td>661388</td>\n",
              "      <td>C</td>\n",
              "      <td>1.82</td>\n",
              "      <td>-4.94</td>\n",
              "      <td>6.76</td>\n",
              "    </tr>\n",
              "  </tbody>\n",
              "</table>\n",
              "</div>\n",
              "    <div class=\"colab-df-buttons\">\n",
              "\n",
              "  <div class=\"colab-df-container\">\n",
              "    <button class=\"colab-df-convert\" onclick=\"convertToInteractive('df-f1a64d8b-9f4e-4b27-a85b-a77f9641eb98')\"\n",
              "            title=\"Convert this dataframe to an interactive table.\"\n",
              "            style=\"display:none;\">\n",
              "\n",
              "  <svg xmlns=\"http://www.w3.org/2000/svg\" height=\"24px\" viewBox=\"0 -960 960 960\">\n",
              "    <path d=\"M120-120v-720h720v720H120Zm60-500h600v-160H180v160Zm220 220h160v-160H400v160Zm0 220h160v-160H400v160ZM180-400h160v-160H180v160Zm440 0h160v-160H620v160ZM180-180h160v-160H180v160Zm440 0h160v-160H620v160Z\"/>\n",
              "  </svg>\n",
              "    </button>\n",
              "\n",
              "  <style>\n",
              "    .colab-df-container {\n",
              "      display:flex;\n",
              "      gap: 12px;\n",
              "    }\n",
              "\n",
              "    .colab-df-convert {\n",
              "      background-color: #E8F0FE;\n",
              "      border: none;\n",
              "      border-radius: 50%;\n",
              "      cursor: pointer;\n",
              "      display: none;\n",
              "      fill: #1967D2;\n",
              "      height: 32px;\n",
              "      padding: 0 0 0 0;\n",
              "      width: 32px;\n",
              "    }\n",
              "\n",
              "    .colab-df-convert:hover {\n",
              "      background-color: #E2EBFA;\n",
              "      box-shadow: 0px 1px 2px rgba(60, 64, 67, 0.3), 0px 1px 3px 1px rgba(60, 64, 67, 0.15);\n",
              "      fill: #174EA6;\n",
              "    }\n",
              "\n",
              "    .colab-df-buttons div {\n",
              "      margin-bottom: 4px;\n",
              "    }\n",
              "\n",
              "    [theme=dark] .colab-df-convert {\n",
              "      background-color: #3B4455;\n",
              "      fill: #D2E3FC;\n",
              "    }\n",
              "\n",
              "    [theme=dark] .colab-df-convert:hover {\n",
              "      background-color: #434B5C;\n",
              "      box-shadow: 0px 1px 3px 1px rgba(0, 0, 0, 0.15);\n",
              "      filter: drop-shadow(0px 1px 2px rgba(0, 0, 0, 0.3));\n",
              "      fill: #FFFFFF;\n",
              "    }\n",
              "  </style>\n",
              "\n",
              "    <script>\n",
              "      const buttonEl =\n",
              "        document.querySelector('#df-f1a64d8b-9f4e-4b27-a85b-a77f9641eb98 button.colab-df-convert');\n",
              "      buttonEl.style.display =\n",
              "        google.colab.kernel.accessAllowed ? 'block' : 'none';\n",
              "\n",
              "      async function convertToInteractive(key) {\n",
              "        const element = document.querySelector('#df-f1a64d8b-9f4e-4b27-a85b-a77f9641eb98');\n",
              "        const dataTable =\n",
              "          await google.colab.kernel.invokeFunction('convertToInteractive',\n",
              "                                                    [key], {});\n",
              "        if (!dataTable) return;\n",
              "\n",
              "        const docLinkHtml = 'Like what you see? Visit the ' +\n",
              "          '<a target=\"_blank\" href=https://colab.research.google.com/notebooks/data_table.ipynb>data table notebook</a>'\n",
              "          + ' to learn more about interactive tables.';\n",
              "        element.innerHTML = '';\n",
              "        dataTable['output_type'] = 'display_data';\n",
              "        await google.colab.output.renderOutput(dataTable, element);\n",
              "        const docLink = document.createElement('div');\n",
              "        docLink.innerHTML = docLinkHtml;\n",
              "        element.appendChild(docLink);\n",
              "      }\n",
              "    </script>\n",
              "  </div>\n",
              "\n",
              "\n",
              "    </div>\n",
              "  </div>\n"
            ],
            "application/vnd.google.colaboratory.intrinsic+json": {
              "type": "dataframe",
              "summary": "{\n  \"name\": \"projections_hitters\",\n  \"rows\": 1,\n  \"fields\": [\n    {\n      \"column\": \"Player\",\n      \"properties\": {\n        \"dtype\": \"string\",\n        \"num_unique_values\": 1,\n        \"samples\": [\n          \"William Contreras\"\n        ],\n        \"semantic_type\": \"\",\n        \"description\": \"\"\n      }\n    },\n    {\n      \"column\": \"MLBAMID\",\n      \"properties\": {\n        \"dtype\": \"number\",\n        \"std\": null,\n        \"min\": 661388,\n        \"max\": 661388,\n        \"num_unique_values\": 1,\n        \"samples\": [\n          661388\n        ],\n        \"semantic_type\": \"\",\n        \"description\": \"\"\n      }\n    },\n    {\n      \"column\": \"Y! Pos\",\n      \"properties\": {\n        \"dtype\": \"string\",\n        \"num_unique_values\": 1,\n        \"samples\": [\n          \"C\"\n        ],\n        \"semantic_type\": \"\",\n        \"description\": \"\"\n      }\n    },\n    {\n      \"column\": \"unadjusted_value\",\n      \"properties\": {\n        \"dtype\": \"number\",\n        \"std\": null,\n        \"min\": 1.82,\n        \"max\": 1.82,\n        \"num_unique_values\": 1,\n        \"samples\": [\n          1.82\n        ],\n        \"semantic_type\": \"\",\n        \"description\": \"\"\n      }\n    },\n    {\n      \"column\": \"ADJ\",\n      \"properties\": {\n        \"dtype\": \"number\",\n        \"std\": null,\n        \"min\": -4.94,\n        \"max\": -4.94,\n        \"num_unique_values\": 1,\n        \"samples\": [\n          -4.94\n        ],\n        \"semantic_type\": \"\",\n        \"description\": \"\"\n      }\n    },\n    {\n      \"column\": \"adjusted_value\",\n      \"properties\": {\n        \"dtype\": \"number\",\n        \"std\": null,\n        \"min\": 6.76,\n        \"max\": 6.76,\n        \"num_unique_values\": 1,\n        \"samples\": [\n          6.76\n        ],\n        \"semantic_type\": \"\",\n        \"description\": \"\"\n      }\n    }\n  ]\n}"
            }
          },
          "metadata": {},
          "execution_count": 12
        }
      ]
    },
    {
      "cell_type": "code",
      "source": [
        "projections_hitters.loc[projections_hitters['Player']=='Shohei Ohtani',['Player','MLBAMID','Y! Pos','unadjusted_value','ADJ','adjusted_value']].round(2)"
      ],
      "metadata": {
        "colab": {
          "base_uri": "https://localhost:8080/",
          "height": 81
        },
        "id": "likXO3WEI_ZT",
        "outputId": "d85d29fd-7c1c-4152-ad99-20fae97d25f7"
      },
      "execution_count": 13,
      "outputs": [
        {
          "output_type": "execute_result",
          "data": {
            "text/plain": [
              "          Player  MLBAMID Y! Pos  unadjusted_value   ADJ  adjusted_value\n",
              "0  Shohei Ohtani   660271  UT/SP              14.8 -3.21           18.01"
            ],
            "text/html": [
              "\n",
              "  <div id=\"df-28cb85de-6006-4395-8299-b08c34bb16d8\" class=\"colab-df-container\">\n",
              "    <div>\n",
              "<style scoped>\n",
              "    .dataframe tbody tr th:only-of-type {\n",
              "        vertical-align: middle;\n",
              "    }\n",
              "\n",
              "    .dataframe tbody tr th {\n",
              "        vertical-align: top;\n",
              "    }\n",
              "\n",
              "    .dataframe thead th {\n",
              "        text-align: right;\n",
              "    }\n",
              "</style>\n",
              "<table border=\"1\" class=\"dataframe\">\n",
              "  <thead>\n",
              "    <tr style=\"text-align: right;\">\n",
              "      <th></th>\n",
              "      <th>Player</th>\n",
              "      <th>MLBAMID</th>\n",
              "      <th>Y! Pos</th>\n",
              "      <th>unadjusted_value</th>\n",
              "      <th>ADJ</th>\n",
              "      <th>adjusted_value</th>\n",
              "    </tr>\n",
              "  </thead>\n",
              "  <tbody>\n",
              "    <tr>\n",
              "      <th>0</th>\n",
              "      <td>Shohei Ohtani</td>\n",
              "      <td>660271</td>\n",
              "      <td>UT/SP</td>\n",
              "      <td>14.8</td>\n",
              "      <td>-3.21</td>\n",
              "      <td>18.01</td>\n",
              "    </tr>\n",
              "  </tbody>\n",
              "</table>\n",
              "</div>\n",
              "    <div class=\"colab-df-buttons\">\n",
              "\n",
              "  <div class=\"colab-df-container\">\n",
              "    <button class=\"colab-df-convert\" onclick=\"convertToInteractive('df-28cb85de-6006-4395-8299-b08c34bb16d8')\"\n",
              "            title=\"Convert this dataframe to an interactive table.\"\n",
              "            style=\"display:none;\">\n",
              "\n",
              "  <svg xmlns=\"http://www.w3.org/2000/svg\" height=\"24px\" viewBox=\"0 -960 960 960\">\n",
              "    <path d=\"M120-120v-720h720v720H120Zm60-500h600v-160H180v160Zm220 220h160v-160H400v160Zm0 220h160v-160H400v160ZM180-400h160v-160H180v160Zm440 0h160v-160H620v160ZM180-180h160v-160H180v160Zm440 0h160v-160H620v160Z\"/>\n",
              "  </svg>\n",
              "    </button>\n",
              "\n",
              "  <style>\n",
              "    .colab-df-container {\n",
              "      display:flex;\n",
              "      gap: 12px;\n",
              "    }\n",
              "\n",
              "    .colab-df-convert {\n",
              "      background-color: #E8F0FE;\n",
              "      border: none;\n",
              "      border-radius: 50%;\n",
              "      cursor: pointer;\n",
              "      display: none;\n",
              "      fill: #1967D2;\n",
              "      height: 32px;\n",
              "      padding: 0 0 0 0;\n",
              "      width: 32px;\n",
              "    }\n",
              "\n",
              "    .colab-df-convert:hover {\n",
              "      background-color: #E2EBFA;\n",
              "      box-shadow: 0px 1px 2px rgba(60, 64, 67, 0.3), 0px 1px 3px 1px rgba(60, 64, 67, 0.15);\n",
              "      fill: #174EA6;\n",
              "    }\n",
              "\n",
              "    .colab-df-buttons div {\n",
              "      margin-bottom: 4px;\n",
              "    }\n",
              "\n",
              "    [theme=dark] .colab-df-convert {\n",
              "      background-color: #3B4455;\n",
              "      fill: #D2E3FC;\n",
              "    }\n",
              "\n",
              "    [theme=dark] .colab-df-convert:hover {\n",
              "      background-color: #434B5C;\n",
              "      box-shadow: 0px 1px 3px 1px rgba(0, 0, 0, 0.15);\n",
              "      filter: drop-shadow(0px 1px 2px rgba(0, 0, 0, 0.3));\n",
              "      fill: #FFFFFF;\n",
              "    }\n",
              "  </style>\n",
              "\n",
              "    <script>\n",
              "      const buttonEl =\n",
              "        document.querySelector('#df-28cb85de-6006-4395-8299-b08c34bb16d8 button.colab-df-convert');\n",
              "      buttonEl.style.display =\n",
              "        google.colab.kernel.accessAllowed ? 'block' : 'none';\n",
              "\n",
              "      async function convertToInteractive(key) {\n",
              "        const element = document.querySelector('#df-28cb85de-6006-4395-8299-b08c34bb16d8');\n",
              "        const dataTable =\n",
              "          await google.colab.kernel.invokeFunction('convertToInteractive',\n",
              "                                                    [key], {});\n",
              "        if (!dataTable) return;\n",
              "\n",
              "        const docLinkHtml = 'Like what you see? Visit the ' +\n",
              "          '<a target=\"_blank\" href=https://colab.research.google.com/notebooks/data_table.ipynb>data table notebook</a>'\n",
              "          + ' to learn more about interactive tables.';\n",
              "        element.innerHTML = '';\n",
              "        dataTable['output_type'] = 'display_data';\n",
              "        await google.colab.output.renderOutput(dataTable, element);\n",
              "        const docLink = document.createElement('div');\n",
              "        docLink.innerHTML = docLinkHtml;\n",
              "        element.appendChild(docLink);\n",
              "      }\n",
              "    </script>\n",
              "  </div>\n",
              "\n",
              "\n",
              "    </div>\n",
              "  </div>\n"
            ],
            "application/vnd.google.colaboratory.intrinsic+json": {
              "type": "dataframe",
              "summary": "{\n  \"name\": \"projections_hitters\",\n  \"rows\": 1,\n  \"fields\": [\n    {\n      \"column\": \"Player\",\n      \"properties\": {\n        \"dtype\": \"string\",\n        \"num_unique_values\": 1,\n        \"samples\": [\n          \"Shohei Ohtani\"\n        ],\n        \"semantic_type\": \"\",\n        \"description\": \"\"\n      }\n    },\n    {\n      \"column\": \"MLBAMID\",\n      \"properties\": {\n        \"dtype\": \"number\",\n        \"std\": null,\n        \"min\": 660271,\n        \"max\": 660271,\n        \"num_unique_values\": 1,\n        \"samples\": [\n          660271\n        ],\n        \"semantic_type\": \"\",\n        \"description\": \"\"\n      }\n    },\n    {\n      \"column\": \"Y! Pos\",\n      \"properties\": {\n        \"dtype\": \"string\",\n        \"num_unique_values\": 1,\n        \"samples\": [\n          \"UT/SP\"\n        ],\n        \"semantic_type\": \"\",\n        \"description\": \"\"\n      }\n    },\n    {\n      \"column\": \"unadjusted_value\",\n      \"properties\": {\n        \"dtype\": \"number\",\n        \"std\": null,\n        \"min\": 14.8,\n        \"max\": 14.8,\n        \"num_unique_values\": 1,\n        \"samples\": [\n          14.8\n        ],\n        \"semantic_type\": \"\",\n        \"description\": \"\"\n      }\n    },\n    {\n      \"column\": \"ADJ\",\n      \"properties\": {\n        \"dtype\": \"number\",\n        \"std\": null,\n        \"min\": -3.21,\n        \"max\": -3.21,\n        \"num_unique_values\": 1,\n        \"samples\": [\n          -3.21\n        ],\n        \"semantic_type\": \"\",\n        \"description\": \"\"\n      }\n    },\n    {\n      \"column\": \"adjusted_value\",\n      \"properties\": {\n        \"dtype\": \"number\",\n        \"std\": null,\n        \"min\": 18.01,\n        \"max\": 18.01,\n        \"num_unique_values\": 1,\n        \"samples\": [\n          18.01\n        ],\n        \"semantic_type\": \"\",\n        \"description\": \"\"\n      }\n    }\n  ]\n}"
            }
          },
          "metadata": {},
          "execution_count": 13
        }
      ]
    },
    {
      "cell_type": "markdown",
      "source": [
        "# Pitchers"
      ],
      "metadata": {
        "id": "TlC6m2ex5R-P"
      }
    },
    {
      "cell_type": "code",
      "source": [
        "# Load Projections\n",
        "projections_pitchers = pd.read_csv('https://docs.google.com/spreadsheets/d/1nnH9bABVxgD28KVj9Oa67bn9Kp5x2dD0nFiZ7jIfvmQ/export?gid=354379391&format=csv')\n",
        "\n",
        "ip_thresh = min(50,projections_pitchers['IP'].nlargest(TEAMS * PITCHERS).min())\n",
        "\n",
        "# Select Replacement-level Sample, based on playing time ('IP')\n",
        "sample_pitchers  = projections_pitchers.loc[projections_pitchers['IP'] >= ip_thresh]"
      ],
      "metadata": {
        "id": "v6kgtkod5TpR"
      },
      "execution_count": 14,
      "outputs": []
    },
    {
      "cell_type": "code",
      "source": [
        "# Z-Scores for Volume Stats\n",
        "projections_pitchers[[x+'_val' for x in volume_scoring_categories_p]] = volume_z_score(volume_scoring_categories_p,\n",
        "                                                                                       projections_pitchers,\n",
        "                                                                                       sample_pitchers)\n",
        "\n",
        "# Z-Scores for Rate Stats\n",
        "for x in rate_scoring_categories_p:\n",
        "    projections_pitchers[x+'_val'] = rate_z_score(x,'IP',\n",
        "                                                  projections_pitchers,\n",
        "                                                  sample_pitchers,\n",
        "                                                  PITCHERS)\n",
        "\n",
        "# Invert relevant scoring categories\n",
        "for x in list(set(scoring_categories_p) & set(inverted_categories_p)):\n",
        "    projections_pitchers[x+'_val'] = projections_pitchers[x+'_val'].mul(-1)\n",
        "\n",
        "# Total unadjusted Value\n",
        "projections_pitchers['unadjusted_value'] = projections_pitchers[[x+'_val' for x in scoring_categories_p]].sum(axis=1)\n",
        "\n",
        "# Position Adjustment for Catchers\n",
        "projections_pitchers['ADJ'] = projections_pitchers['unadjusted_value'].nlargest(int(TEAMS * (PITCHERS + BENCH/2))).min()\n",
        "\n",
        "# Total Adjusted Hitter Value\n",
        "projections_pitchers['adjusted_value'] = projections_pitchers['unadjusted_value'].sub(projections_pitchers['ADJ'])"
      ],
      "metadata": {
        "id": "93UW80m_5Uos"
      },
      "execution_count": 15,
      "outputs": []
    },
    {
      "cell_type": "code",
      "source": [
        "projections_pitchers.loc[projections_pitchers['Name']=='Tarik Skubal',['Name','MLBAMID','unadjusted_value','ADJ','adjusted_value']].round(2)"
      ],
      "metadata": {
        "colab": {
          "base_uri": "https://localhost:8080/",
          "height": 81
        },
        "id": "EoOrT8FH5V4w",
        "outputId": "5a3988b2-2b2b-4f18-9355-b526666bec9b"
      },
      "execution_count": 16,
      "outputs": [
        {
          "output_type": "execute_result",
          "data": {
            "text/plain": [
              "           Name  MLBAMID  unadjusted_value   ADJ  adjusted_value\n",
              "0  Tarik Skubal   669373             12.22  1.15           11.06"
            ],
            "text/html": [
              "\n",
              "  <div id=\"df-7c1aa8a2-c8f6-4460-8eb6-2a9b4ab4ae74\" class=\"colab-df-container\">\n",
              "    <div>\n",
              "<style scoped>\n",
              "    .dataframe tbody tr th:only-of-type {\n",
              "        vertical-align: middle;\n",
              "    }\n",
              "\n",
              "    .dataframe tbody tr th {\n",
              "        vertical-align: top;\n",
              "    }\n",
              "\n",
              "    .dataframe thead th {\n",
              "        text-align: right;\n",
              "    }\n",
              "</style>\n",
              "<table border=\"1\" class=\"dataframe\">\n",
              "  <thead>\n",
              "    <tr style=\"text-align: right;\">\n",
              "      <th></th>\n",
              "      <th>Name</th>\n",
              "      <th>MLBAMID</th>\n",
              "      <th>unadjusted_value</th>\n",
              "      <th>ADJ</th>\n",
              "      <th>adjusted_value</th>\n",
              "    </tr>\n",
              "  </thead>\n",
              "  <tbody>\n",
              "    <tr>\n",
              "      <th>0</th>\n",
              "      <td>Tarik Skubal</td>\n",
              "      <td>669373</td>\n",
              "      <td>12.22</td>\n",
              "      <td>1.15</td>\n",
              "      <td>11.06</td>\n",
              "    </tr>\n",
              "  </tbody>\n",
              "</table>\n",
              "</div>\n",
              "    <div class=\"colab-df-buttons\">\n",
              "\n",
              "  <div class=\"colab-df-container\">\n",
              "    <button class=\"colab-df-convert\" onclick=\"convertToInteractive('df-7c1aa8a2-c8f6-4460-8eb6-2a9b4ab4ae74')\"\n",
              "            title=\"Convert this dataframe to an interactive table.\"\n",
              "            style=\"display:none;\">\n",
              "\n",
              "  <svg xmlns=\"http://www.w3.org/2000/svg\" height=\"24px\" viewBox=\"0 -960 960 960\">\n",
              "    <path d=\"M120-120v-720h720v720H120Zm60-500h600v-160H180v160Zm220 220h160v-160H400v160Zm0 220h160v-160H400v160ZM180-400h160v-160H180v160Zm440 0h160v-160H620v160ZM180-180h160v-160H180v160Zm440 0h160v-160H620v160Z\"/>\n",
              "  </svg>\n",
              "    </button>\n",
              "\n",
              "  <style>\n",
              "    .colab-df-container {\n",
              "      display:flex;\n",
              "      gap: 12px;\n",
              "    }\n",
              "\n",
              "    .colab-df-convert {\n",
              "      background-color: #E8F0FE;\n",
              "      border: none;\n",
              "      border-radius: 50%;\n",
              "      cursor: pointer;\n",
              "      display: none;\n",
              "      fill: #1967D2;\n",
              "      height: 32px;\n",
              "      padding: 0 0 0 0;\n",
              "      width: 32px;\n",
              "    }\n",
              "\n",
              "    .colab-df-convert:hover {\n",
              "      background-color: #E2EBFA;\n",
              "      box-shadow: 0px 1px 2px rgba(60, 64, 67, 0.3), 0px 1px 3px 1px rgba(60, 64, 67, 0.15);\n",
              "      fill: #174EA6;\n",
              "    }\n",
              "\n",
              "    .colab-df-buttons div {\n",
              "      margin-bottom: 4px;\n",
              "    }\n",
              "\n",
              "    [theme=dark] .colab-df-convert {\n",
              "      background-color: #3B4455;\n",
              "      fill: #D2E3FC;\n",
              "    }\n",
              "\n",
              "    [theme=dark] .colab-df-convert:hover {\n",
              "      background-color: #434B5C;\n",
              "      box-shadow: 0px 1px 3px 1px rgba(0, 0, 0, 0.15);\n",
              "      filter: drop-shadow(0px 1px 2px rgba(0, 0, 0, 0.3));\n",
              "      fill: #FFFFFF;\n",
              "    }\n",
              "  </style>\n",
              "\n",
              "    <script>\n",
              "      const buttonEl =\n",
              "        document.querySelector('#df-7c1aa8a2-c8f6-4460-8eb6-2a9b4ab4ae74 button.colab-df-convert');\n",
              "      buttonEl.style.display =\n",
              "        google.colab.kernel.accessAllowed ? 'block' : 'none';\n",
              "\n",
              "      async function convertToInteractive(key) {\n",
              "        const element = document.querySelector('#df-7c1aa8a2-c8f6-4460-8eb6-2a9b4ab4ae74');\n",
              "        const dataTable =\n",
              "          await google.colab.kernel.invokeFunction('convertToInteractive',\n",
              "                                                    [key], {});\n",
              "        if (!dataTable) return;\n",
              "\n",
              "        const docLinkHtml = 'Like what you see? Visit the ' +\n",
              "          '<a target=\"_blank\" href=https://colab.research.google.com/notebooks/data_table.ipynb>data table notebook</a>'\n",
              "          + ' to learn more about interactive tables.';\n",
              "        element.innerHTML = '';\n",
              "        dataTable['output_type'] = 'display_data';\n",
              "        await google.colab.output.renderOutput(dataTable, element);\n",
              "        const docLink = document.createElement('div');\n",
              "        docLink.innerHTML = docLinkHtml;\n",
              "        element.appendChild(docLink);\n",
              "      }\n",
              "    </script>\n",
              "  </div>\n",
              "\n",
              "\n",
              "    </div>\n",
              "  </div>\n"
            ],
            "application/vnd.google.colaboratory.intrinsic+json": {
              "type": "dataframe",
              "summary": "{\n  \"name\": \"projections_pitchers\",\n  \"rows\": 1,\n  \"fields\": [\n    {\n      \"column\": \"Name\",\n      \"properties\": {\n        \"dtype\": \"string\",\n        \"num_unique_values\": 1,\n        \"samples\": [\n          \"Tarik Skubal\"\n        ],\n        \"semantic_type\": \"\",\n        \"description\": \"\"\n      }\n    },\n    {\n      \"column\": \"MLBAMID\",\n      \"properties\": {\n        \"dtype\": \"number\",\n        \"std\": null,\n        \"min\": 669373,\n        \"max\": 669373,\n        \"num_unique_values\": 1,\n        \"samples\": [\n          669373\n        ],\n        \"semantic_type\": \"\",\n        \"description\": \"\"\n      }\n    },\n    {\n      \"column\": \"unadjusted_value\",\n      \"properties\": {\n        \"dtype\": \"number\",\n        \"std\": null,\n        \"min\": 12.22,\n        \"max\": 12.22,\n        \"num_unique_values\": 1,\n        \"samples\": [\n          12.22\n        ],\n        \"semantic_type\": \"\",\n        \"description\": \"\"\n      }\n    },\n    {\n      \"column\": \"ADJ\",\n      \"properties\": {\n        \"dtype\": \"number\",\n        \"std\": null,\n        \"min\": 1.15,\n        \"max\": 1.15,\n        \"num_unique_values\": 1,\n        \"samples\": [\n          1.15\n        ],\n        \"semantic_type\": \"\",\n        \"description\": \"\"\n      }\n    },\n    {\n      \"column\": \"adjusted_value\",\n      \"properties\": {\n        \"dtype\": \"number\",\n        \"std\": null,\n        \"min\": 11.06,\n        \"max\": 11.06,\n        \"num_unique_values\": 1,\n        \"samples\": [\n          11.06\n        ],\n        \"semantic_type\": \"\",\n        \"description\": \"\"\n      }\n    }\n  ]\n}"
            }
          },
          "metadata": {},
          "execution_count": 16
        }
      ]
    },
    {
      "cell_type": "markdown",
      "source": [
        "# Combined"
      ],
      "metadata": {
        "id": "gfj1wr955WbQ"
      }
    },
    {
      "cell_type": "markdown",
      "source": [
        "Pitchers and hitters are combined into a single dataframe"
      ],
      "metadata": {
        "id": "uDqAEu9CJVNH"
      }
    },
    {
      "cell_type": "code",
      "source": [
        "combined_value_df = (\n",
        "    pd.concat(\n",
        "        [\n",
        "            projections_hitters[['Player','MLBAMID','Y! Pos','PA']+scoring_categories_h+['adjusted_value']],\n",
        "            projections_pitchers.rename(columns={'Name':'Player'})[['Player','MLBAMID','IP']+scoring_categories_p+['adjusted_value']]\n",
        "            ],\n",
        "        ignore_index=True)\n",
        "    [['Player','MLBAMID','Y! Pos','adjusted_value','PA']+scoring_categories_h+['IP']+scoring_categories_p]\n",
        ")\n",
        "combined_value_df['Y! Pos'] = combined_value_df['Y! Pos'].fillna('P')"
      ],
      "metadata": {
        "id": "fnDdH0Tq5XMh"
      },
      "execution_count": 17,
      "outputs": []
    },
    {
      "cell_type": "markdown",
      "source": [
        "Every player selected in an auction draft must be at least at the minimum bid value, so the dollar allocation needs to reflect this.\n",
        "\n",
        "Calculate the allocation of Value budget available to hitters and pitchers, based on league settings."
      ],
      "metadata": {
        "id": "Hp9JJl20JgWQ"
      }
    },
    {
      "cell_type": "code",
      "source": [
        "# Dollar Conversion\n",
        "non_replacement_dollars = (TEAMS * BUDGET) - (TEAMS * (HITTERS + PITCHERS + BENCH) * MIN_BID)\n",
        "total_hitter_dollars = non_replacement_dollars * HITTER_SPLIT\n",
        "total_pitcher_dollars = non_replacement_dollars * PITCHER_SPLIT\n",
        "print(f'Value Budget Available: ${non_replacement_dollars:,.0f}')\n",
        "print(f'Hitter Budget Available: ${total_hitter_dollars:,.2f}')\n",
        "print(f'Pitcher Budget Available: ${total_pitcher_dollars:,.2f}')"
      ],
      "metadata": {
        "colab": {
          "base_uri": "https://localhost:8080/"
        },
        "id": "yFWRao-N5Yro",
        "outputId": "08f306c9-1479-4d0f-d1d0-a7fb1efb7d8f"
      },
      "execution_count": 18,
      "outputs": [
        {
          "output_type": "stream",
          "name": "stdout",
          "text": [
            "Value Budget Available: $2,844\n",
            "Hitter Budget Available: $1,848.60\n",
            "Pitcher Budget Available: $995.40\n"
          ]
        }
      ]
    },
    {
      "cell_type": "code",
      "source": [
        "total_hitter_value = projections_hitters.loc[projections_hitters['adjusted_value']>0,'adjusted_value'].sum()\n",
        "total_pitcher_value = projections_pitchers.loc[projections_pitchers['adjusted_value']>0,'adjusted_value'].sum()\n",
        "print(f'Total Hitter Value: {total_hitter_value:,.1f}')\n",
        "print(f'Total Pitcher Value: {total_pitcher_value:,.1f}')"
      ],
      "metadata": {
        "colab": {
          "base_uri": "https://localhost:8080/"
        },
        "id": "uapD-U5qJrnH",
        "outputId": "0a42847e-0823-44e8-dc3b-677055a75b94"
      },
      "execution_count": 19,
      "outputs": [
        {
          "output_type": "stream",
          "name": "stdout",
          "text": [
            "Total Hitter Value: 576.9\n",
            "Total Pitcher Value: 429.8\n"
          ]
        }
      ]
    },
    {
      "cell_type": "code",
      "source": [
        "hitter_dollars_per_value = total_hitter_dollars / total_hitter_value\n",
        "pitcher_dollars_per_value = total_pitcher_dollars / total_pitcher_value\n",
        "print(f'Hitter $ per Value: ${hitter_dollars_per_value:.2f}')\n",
        "print(f'Pitcher $ per Value: ${pitcher_dollars_per_value:.2f}')"
      ],
      "metadata": {
        "colab": {
          "base_uri": "https://localhost:8080/"
        },
        "id": "wSZ2t3IYJxPP",
        "outputId": "69130fea-b438-4ceb-a3e2-c76a9a4c6a49"
      },
      "execution_count": 20,
      "outputs": [
        {
          "output_type": "stream",
          "name": "stdout",
          "text": [
            "Hitter $ per Value: $3.20\n",
            "Pitcher $ per Value: $2.32\n"
          ]
        }
      ]
    },
    {
      "cell_type": "code",
      "source": [
        "# Apply the dollar conversions, based on whether they are a hitter or pitcher\n",
        "combined_value_df['Auction $'] = MIN_BID + np.where(\n",
        "    combined_value_df['Y! Pos']=='P',\n",
        "    combined_value_df['adjusted_value'].mul(pitcher_dollars_per_value),\n",
        "    combined_value_df['adjusted_value'].mul(hitter_dollars_per_value)\n",
        ")"
      ],
      "metadata": {
        "id": "SKV5VrR1J1AX"
      },
      "execution_count": 21,
      "outputs": []
    },
    {
      "cell_type": "code",
      "source": [
        "projected_auction_dollars = combined_value_df.loc[combined_value_df['Auction $']>0,'Auction $'].sum()\n",
        "print(f'Projected Auction Dollars: ${projected_auction_dollars:,.2f}')\n",
        "print(f'Defined Auction Dollars: ${TEAMS * BUDGET:,.2f}')"
      ],
      "metadata": {
        "colab": {
          "base_uri": "https://localhost:8080/"
        },
        "id": "0JkVGX1qMjWx",
        "outputId": "504b94b5-8e29-4bb1-98ab-37f565ac11c7"
      },
      "execution_count": 22,
      "outputs": [
        {
          "output_type": "stream",
          "name": "stdout",
          "text": [
            "Projected Auction Dollars: $3,134.47\n",
            "Defined Auction Dollars: $3,120.00\n"
          ]
        }
      ]
    },
    {
      "cell_type": "code",
      "source": [
        "combined_value_df.loc[(combined_value_df['Player']=='Shohei Ohtani') & (combined_value_df['Y! Pos']!='P'),['Player','adjusted_value','Auction $']].round(2)"
      ],
      "metadata": {
        "colab": {
          "base_uri": "https://localhost:8080/",
          "height": 81
        },
        "id": "IbbMUqu_Ny83",
        "outputId": "6846da8e-b2a4-48c4-ea9b-50c72ab21d3a"
      },
      "execution_count": 23,
      "outputs": [
        {
          "output_type": "execute_result",
          "data": {
            "text/plain": [
              "          Player  adjusted_value  Auction $\n",
              "0  Shohei Ohtani           18.01      58.71"
            ],
            "text/html": [
              "\n",
              "  <div id=\"df-42e418d7-2a36-4be9-8405-3d09a4d5c418\" class=\"colab-df-container\">\n",
              "    <div>\n",
              "<style scoped>\n",
              "    .dataframe tbody tr th:only-of-type {\n",
              "        vertical-align: middle;\n",
              "    }\n",
              "\n",
              "    .dataframe tbody tr th {\n",
              "        vertical-align: top;\n",
              "    }\n",
              "\n",
              "    .dataframe thead th {\n",
              "        text-align: right;\n",
              "    }\n",
              "</style>\n",
              "<table border=\"1\" class=\"dataframe\">\n",
              "  <thead>\n",
              "    <tr style=\"text-align: right;\">\n",
              "      <th></th>\n",
              "      <th>Player</th>\n",
              "      <th>adjusted_value</th>\n",
              "      <th>Auction $</th>\n",
              "    </tr>\n",
              "  </thead>\n",
              "  <tbody>\n",
              "    <tr>\n",
              "      <th>0</th>\n",
              "      <td>Shohei Ohtani</td>\n",
              "      <td>18.01</td>\n",
              "      <td>58.71</td>\n",
              "    </tr>\n",
              "  </tbody>\n",
              "</table>\n",
              "</div>\n",
              "    <div class=\"colab-df-buttons\">\n",
              "\n",
              "  <div class=\"colab-df-container\">\n",
              "    <button class=\"colab-df-convert\" onclick=\"convertToInteractive('df-42e418d7-2a36-4be9-8405-3d09a4d5c418')\"\n",
              "            title=\"Convert this dataframe to an interactive table.\"\n",
              "            style=\"display:none;\">\n",
              "\n",
              "  <svg xmlns=\"http://www.w3.org/2000/svg\" height=\"24px\" viewBox=\"0 -960 960 960\">\n",
              "    <path d=\"M120-120v-720h720v720H120Zm60-500h600v-160H180v160Zm220 220h160v-160H400v160Zm0 220h160v-160H400v160ZM180-400h160v-160H180v160Zm440 0h160v-160H620v160ZM180-180h160v-160H180v160Zm440 0h160v-160H620v160Z\"/>\n",
              "  </svg>\n",
              "    </button>\n",
              "\n",
              "  <style>\n",
              "    .colab-df-container {\n",
              "      display:flex;\n",
              "      gap: 12px;\n",
              "    }\n",
              "\n",
              "    .colab-df-convert {\n",
              "      background-color: #E8F0FE;\n",
              "      border: none;\n",
              "      border-radius: 50%;\n",
              "      cursor: pointer;\n",
              "      display: none;\n",
              "      fill: #1967D2;\n",
              "      height: 32px;\n",
              "      padding: 0 0 0 0;\n",
              "      width: 32px;\n",
              "    }\n",
              "\n",
              "    .colab-df-convert:hover {\n",
              "      background-color: #E2EBFA;\n",
              "      box-shadow: 0px 1px 2px rgba(60, 64, 67, 0.3), 0px 1px 3px 1px rgba(60, 64, 67, 0.15);\n",
              "      fill: #174EA6;\n",
              "    }\n",
              "\n",
              "    .colab-df-buttons div {\n",
              "      margin-bottom: 4px;\n",
              "    }\n",
              "\n",
              "    [theme=dark] .colab-df-convert {\n",
              "      background-color: #3B4455;\n",
              "      fill: #D2E3FC;\n",
              "    }\n",
              "\n",
              "    [theme=dark] .colab-df-convert:hover {\n",
              "      background-color: #434B5C;\n",
              "      box-shadow: 0px 1px 3px 1px rgba(0, 0, 0, 0.15);\n",
              "      filter: drop-shadow(0px 1px 2px rgba(0, 0, 0, 0.3));\n",
              "      fill: #FFFFFF;\n",
              "    }\n",
              "  </style>\n",
              "\n",
              "    <script>\n",
              "      const buttonEl =\n",
              "        document.querySelector('#df-42e418d7-2a36-4be9-8405-3d09a4d5c418 button.colab-df-convert');\n",
              "      buttonEl.style.display =\n",
              "        google.colab.kernel.accessAllowed ? 'block' : 'none';\n",
              "\n",
              "      async function convertToInteractive(key) {\n",
              "        const element = document.querySelector('#df-42e418d7-2a36-4be9-8405-3d09a4d5c418');\n",
              "        const dataTable =\n",
              "          await google.colab.kernel.invokeFunction('convertToInteractive',\n",
              "                                                    [key], {});\n",
              "        if (!dataTable) return;\n",
              "\n",
              "        const docLinkHtml = 'Like what you see? Visit the ' +\n",
              "          '<a target=\"_blank\" href=https://colab.research.google.com/notebooks/data_table.ipynb>data table notebook</a>'\n",
              "          + ' to learn more about interactive tables.';\n",
              "        element.innerHTML = '';\n",
              "        dataTable['output_type'] = 'display_data';\n",
              "        await google.colab.output.renderOutput(dataTable, element);\n",
              "        const docLink = document.createElement('div');\n",
              "        docLink.innerHTML = docLinkHtml;\n",
              "        element.appendChild(docLink);\n",
              "      }\n",
              "    </script>\n",
              "  </div>\n",
              "\n",
              "\n",
              "    </div>\n",
              "  </div>\n"
            ],
            "application/vnd.google.colaboratory.intrinsic+json": {
              "type": "dataframe",
              "summary": "{\n  \"name\": \"combined_value_df\",\n  \"rows\": 1,\n  \"fields\": [\n    {\n      \"column\": \"Player\",\n      \"properties\": {\n        \"dtype\": \"string\",\n        \"num_unique_values\": 1,\n        \"samples\": [\n          \"Shohei Ohtani\"\n        ],\n        \"semantic_type\": \"\",\n        \"description\": \"\"\n      }\n    },\n    {\n      \"column\": \"adjusted_value\",\n      \"properties\": {\n        \"dtype\": \"number\",\n        \"std\": null,\n        \"min\": 18.01,\n        \"max\": 18.01,\n        \"num_unique_values\": 1,\n        \"samples\": [\n          18.01\n        ],\n        \"semantic_type\": \"\",\n        \"description\": \"\"\n      }\n    },\n    {\n      \"column\": \"Auction $\",\n      \"properties\": {\n        \"dtype\": \"number\",\n        \"std\": null,\n        \"min\": 58.71,\n        \"max\": 58.71,\n        \"num_unique_values\": 1,\n        \"samples\": [\n          58.71\n        ],\n        \"semantic_type\": \"\",\n        \"description\": \"\"\n      }\n    }\n  ]\n}"
            }
          },
          "metadata": {},
          "execution_count": 23
        }
      ]
    },
    {
      "cell_type": "code",
      "source": [
        "combined_value_df.loc[(combined_value_df['Player']=='Tarik Skubal'),['Player','adjusted_value','Auction $']].round(2)"
      ],
      "metadata": {
        "colab": {
          "base_uri": "https://localhost:8080/",
          "height": 81
        },
        "id": "V0TgzEsZNzl5",
        "outputId": "fdaf6bc7-236e-4f04-a4f4-957e02857c24"
      },
      "execution_count": 24,
      "outputs": [
        {
          "output_type": "execute_result",
          "data": {
            "text/plain": [
              "           Player  adjusted_value  Auction $\n",
              "619  Tarik Skubal           11.06      26.62"
            ],
            "text/html": [
              "\n",
              "  <div id=\"df-46724166-784f-4c50-841d-3fa976131c53\" class=\"colab-df-container\">\n",
              "    <div>\n",
              "<style scoped>\n",
              "    .dataframe tbody tr th:only-of-type {\n",
              "        vertical-align: middle;\n",
              "    }\n",
              "\n",
              "    .dataframe tbody tr th {\n",
              "        vertical-align: top;\n",
              "    }\n",
              "\n",
              "    .dataframe thead th {\n",
              "        text-align: right;\n",
              "    }\n",
              "</style>\n",
              "<table border=\"1\" class=\"dataframe\">\n",
              "  <thead>\n",
              "    <tr style=\"text-align: right;\">\n",
              "      <th></th>\n",
              "      <th>Player</th>\n",
              "      <th>adjusted_value</th>\n",
              "      <th>Auction $</th>\n",
              "    </tr>\n",
              "  </thead>\n",
              "  <tbody>\n",
              "    <tr>\n",
              "      <th>619</th>\n",
              "      <td>Tarik Skubal</td>\n",
              "      <td>11.06</td>\n",
              "      <td>26.62</td>\n",
              "    </tr>\n",
              "  </tbody>\n",
              "</table>\n",
              "</div>\n",
              "    <div class=\"colab-df-buttons\">\n",
              "\n",
              "  <div class=\"colab-df-container\">\n",
              "    <button class=\"colab-df-convert\" onclick=\"convertToInteractive('df-46724166-784f-4c50-841d-3fa976131c53')\"\n",
              "            title=\"Convert this dataframe to an interactive table.\"\n",
              "            style=\"display:none;\">\n",
              "\n",
              "  <svg xmlns=\"http://www.w3.org/2000/svg\" height=\"24px\" viewBox=\"0 -960 960 960\">\n",
              "    <path d=\"M120-120v-720h720v720H120Zm60-500h600v-160H180v160Zm220 220h160v-160H400v160Zm0 220h160v-160H400v160ZM180-400h160v-160H180v160Zm440 0h160v-160H620v160ZM180-180h160v-160H180v160Zm440 0h160v-160H620v160Z\"/>\n",
              "  </svg>\n",
              "    </button>\n",
              "\n",
              "  <style>\n",
              "    .colab-df-container {\n",
              "      display:flex;\n",
              "      gap: 12px;\n",
              "    }\n",
              "\n",
              "    .colab-df-convert {\n",
              "      background-color: #E8F0FE;\n",
              "      border: none;\n",
              "      border-radius: 50%;\n",
              "      cursor: pointer;\n",
              "      display: none;\n",
              "      fill: #1967D2;\n",
              "      height: 32px;\n",
              "      padding: 0 0 0 0;\n",
              "      width: 32px;\n",
              "    }\n",
              "\n",
              "    .colab-df-convert:hover {\n",
              "      background-color: #E2EBFA;\n",
              "      box-shadow: 0px 1px 2px rgba(60, 64, 67, 0.3), 0px 1px 3px 1px rgba(60, 64, 67, 0.15);\n",
              "      fill: #174EA6;\n",
              "    }\n",
              "\n",
              "    .colab-df-buttons div {\n",
              "      margin-bottom: 4px;\n",
              "    }\n",
              "\n",
              "    [theme=dark] .colab-df-convert {\n",
              "      background-color: #3B4455;\n",
              "      fill: #D2E3FC;\n",
              "    }\n",
              "\n",
              "    [theme=dark] .colab-df-convert:hover {\n",
              "      background-color: #434B5C;\n",
              "      box-shadow: 0px 1px 3px 1px rgba(0, 0, 0, 0.15);\n",
              "      filter: drop-shadow(0px 1px 2px rgba(0, 0, 0, 0.3));\n",
              "      fill: #FFFFFF;\n",
              "    }\n",
              "  </style>\n",
              "\n",
              "    <script>\n",
              "      const buttonEl =\n",
              "        document.querySelector('#df-46724166-784f-4c50-841d-3fa976131c53 button.colab-df-convert');\n",
              "      buttonEl.style.display =\n",
              "        google.colab.kernel.accessAllowed ? 'block' : 'none';\n",
              "\n",
              "      async function convertToInteractive(key) {\n",
              "        const element = document.querySelector('#df-46724166-784f-4c50-841d-3fa976131c53');\n",
              "        const dataTable =\n",
              "          await google.colab.kernel.invokeFunction('convertToInteractive',\n",
              "                                                    [key], {});\n",
              "        if (!dataTable) return;\n",
              "\n",
              "        const docLinkHtml = 'Like what you see? Visit the ' +\n",
              "          '<a target=\"_blank\" href=https://colab.research.google.com/notebooks/data_table.ipynb>data table notebook</a>'\n",
              "          + ' to learn more about interactive tables.';\n",
              "        element.innerHTML = '';\n",
              "        dataTable['output_type'] = 'display_data';\n",
              "        await google.colab.output.renderOutput(dataTable, element);\n",
              "        const docLink = document.createElement('div');\n",
              "        docLink.innerHTML = docLinkHtml;\n",
              "        element.appendChild(docLink);\n",
              "      }\n",
              "    </script>\n",
              "  </div>\n",
              "\n",
              "\n",
              "    </div>\n",
              "  </div>\n"
            ],
            "application/vnd.google.colaboratory.intrinsic+json": {
              "type": "dataframe",
              "summary": "{\n  \"name\": \"combined_value_df\",\n  \"rows\": 1,\n  \"fields\": [\n    {\n      \"column\": \"Player\",\n      \"properties\": {\n        \"dtype\": \"string\",\n        \"num_unique_values\": 1,\n        \"samples\": [\n          \"Tarik Skubal\"\n        ],\n        \"semantic_type\": \"\",\n        \"description\": \"\"\n      }\n    },\n    {\n      \"column\": \"adjusted_value\",\n      \"properties\": {\n        \"dtype\": \"number\",\n        \"std\": null,\n        \"min\": 11.06,\n        \"max\": 11.06,\n        \"num_unique_values\": 1,\n        \"samples\": [\n          11.06\n        ],\n        \"semantic_type\": \"\",\n        \"description\": \"\"\n      }\n    },\n    {\n      \"column\": \"Auction $\",\n      \"properties\": {\n        \"dtype\": \"number\",\n        \"std\": null,\n        \"min\": 26.62,\n        \"max\": 26.62,\n        \"num_unique_values\": 1,\n        \"samples\": [\n          26.62\n        ],\n        \"semantic_type\": \"\",\n        \"description\": \"\"\n      }\n    }\n  ]\n}"
            }
          },
          "metadata": {},
          "execution_count": 24
        }
      ]
    },
    {
      "cell_type": "markdown",
      "source": [
        "Apply a fudge factor to get the Projected dollar amounts to line up with the Defined dollar amounts"
      ],
      "metadata": {
        "id": "XsooGmFYMlHK"
      }
    },
    {
      "cell_type": "code",
      "source": [
        "fudge_factor = (TEAMS * BUDGET) / projected_auction_dollars\n",
        "combined_value_df['Auction $'] = combined_value_df['Auction $'].mul(fudge_factor)\n",
        "print(f'Fudge Factor: {fudge_factor:.3f}')\n",
        "\n",
        "projected_auction_dollars_adj = combined_value_df.loc[combined_value_df['Auction $']>0,'Auction $'].sum()\n",
        "print(f'Projected Auction Dollars (adjusted): ${projected_auction_dollars_adj:,.2f}')\n",
        "print(f'Defined Auction Dollars: ${TEAMS * BUDGET:,.2f}')"
      ],
      "metadata": {
        "colab": {
          "base_uri": "https://localhost:8080/"
        },
        "id": "gYixaeSuMuPW",
        "outputId": "f377ea6b-95c0-4bc9-8827-88152b88bcd6"
      },
      "execution_count": 25,
      "outputs": [
        {
          "output_type": "stream",
          "name": "stdout",
          "text": [
            "Fudge Factor: 0.995\n",
            "Projected Auction Dollars (adjusted): $3,120.00\n",
            "Defined Auction Dollars: $3,120.00\n"
          ]
        }
      ]
    },
    {
      "cell_type": "code",
      "source": [
        "combined_value_df.loc[(combined_value_df['Player']=='Shohei Ohtani') & (combined_value_df['Y! Pos']!='P'),['Player','adjusted_value','Auction $']].round(2)"
      ],
      "metadata": {
        "colab": {
          "base_uri": "https://localhost:8080/",
          "height": 81
        },
        "id": "fP-Q0CayK1at",
        "outputId": "87d7facf-f09c-45cb-9319-9c757d8cbaa0"
      },
      "execution_count": 26,
      "outputs": [
        {
          "output_type": "execute_result",
          "data": {
            "text/plain": [
              "          Player  adjusted_value  Auction $\n",
              "0  Shohei Ohtani           18.01      58.44"
            ],
            "text/html": [
              "\n",
              "  <div id=\"df-670950dd-76f2-4eb5-98c2-def837975558\" class=\"colab-df-container\">\n",
              "    <div>\n",
              "<style scoped>\n",
              "    .dataframe tbody tr th:only-of-type {\n",
              "        vertical-align: middle;\n",
              "    }\n",
              "\n",
              "    .dataframe tbody tr th {\n",
              "        vertical-align: top;\n",
              "    }\n",
              "\n",
              "    .dataframe thead th {\n",
              "        text-align: right;\n",
              "    }\n",
              "</style>\n",
              "<table border=\"1\" class=\"dataframe\">\n",
              "  <thead>\n",
              "    <tr style=\"text-align: right;\">\n",
              "      <th></th>\n",
              "      <th>Player</th>\n",
              "      <th>adjusted_value</th>\n",
              "      <th>Auction $</th>\n",
              "    </tr>\n",
              "  </thead>\n",
              "  <tbody>\n",
              "    <tr>\n",
              "      <th>0</th>\n",
              "      <td>Shohei Ohtani</td>\n",
              "      <td>18.01</td>\n",
              "      <td>58.44</td>\n",
              "    </tr>\n",
              "  </tbody>\n",
              "</table>\n",
              "</div>\n",
              "    <div class=\"colab-df-buttons\">\n",
              "\n",
              "  <div class=\"colab-df-container\">\n",
              "    <button class=\"colab-df-convert\" onclick=\"convertToInteractive('df-670950dd-76f2-4eb5-98c2-def837975558')\"\n",
              "            title=\"Convert this dataframe to an interactive table.\"\n",
              "            style=\"display:none;\">\n",
              "\n",
              "  <svg xmlns=\"http://www.w3.org/2000/svg\" height=\"24px\" viewBox=\"0 -960 960 960\">\n",
              "    <path d=\"M120-120v-720h720v720H120Zm60-500h600v-160H180v160Zm220 220h160v-160H400v160Zm0 220h160v-160H400v160ZM180-400h160v-160H180v160Zm440 0h160v-160H620v160ZM180-180h160v-160H180v160Zm440 0h160v-160H620v160Z\"/>\n",
              "  </svg>\n",
              "    </button>\n",
              "\n",
              "  <style>\n",
              "    .colab-df-container {\n",
              "      display:flex;\n",
              "      gap: 12px;\n",
              "    }\n",
              "\n",
              "    .colab-df-convert {\n",
              "      background-color: #E8F0FE;\n",
              "      border: none;\n",
              "      border-radius: 50%;\n",
              "      cursor: pointer;\n",
              "      display: none;\n",
              "      fill: #1967D2;\n",
              "      height: 32px;\n",
              "      padding: 0 0 0 0;\n",
              "      width: 32px;\n",
              "    }\n",
              "\n",
              "    .colab-df-convert:hover {\n",
              "      background-color: #E2EBFA;\n",
              "      box-shadow: 0px 1px 2px rgba(60, 64, 67, 0.3), 0px 1px 3px 1px rgba(60, 64, 67, 0.15);\n",
              "      fill: #174EA6;\n",
              "    }\n",
              "\n",
              "    .colab-df-buttons div {\n",
              "      margin-bottom: 4px;\n",
              "    }\n",
              "\n",
              "    [theme=dark] .colab-df-convert {\n",
              "      background-color: #3B4455;\n",
              "      fill: #D2E3FC;\n",
              "    }\n",
              "\n",
              "    [theme=dark] .colab-df-convert:hover {\n",
              "      background-color: #434B5C;\n",
              "      box-shadow: 0px 1px 3px 1px rgba(0, 0, 0, 0.15);\n",
              "      filter: drop-shadow(0px 1px 2px rgba(0, 0, 0, 0.3));\n",
              "      fill: #FFFFFF;\n",
              "    }\n",
              "  </style>\n",
              "\n",
              "    <script>\n",
              "      const buttonEl =\n",
              "        document.querySelector('#df-670950dd-76f2-4eb5-98c2-def837975558 button.colab-df-convert');\n",
              "      buttonEl.style.display =\n",
              "        google.colab.kernel.accessAllowed ? 'block' : 'none';\n",
              "\n",
              "      async function convertToInteractive(key) {\n",
              "        const element = document.querySelector('#df-670950dd-76f2-4eb5-98c2-def837975558');\n",
              "        const dataTable =\n",
              "          await google.colab.kernel.invokeFunction('convertToInteractive',\n",
              "                                                    [key], {});\n",
              "        if (!dataTable) return;\n",
              "\n",
              "        const docLinkHtml = 'Like what you see? Visit the ' +\n",
              "          '<a target=\"_blank\" href=https://colab.research.google.com/notebooks/data_table.ipynb>data table notebook</a>'\n",
              "          + ' to learn more about interactive tables.';\n",
              "        element.innerHTML = '';\n",
              "        dataTable['output_type'] = 'display_data';\n",
              "        await google.colab.output.renderOutput(dataTable, element);\n",
              "        const docLink = document.createElement('div');\n",
              "        docLink.innerHTML = docLinkHtml;\n",
              "        element.appendChild(docLink);\n",
              "      }\n",
              "    </script>\n",
              "  </div>\n",
              "\n",
              "\n",
              "    </div>\n",
              "  </div>\n"
            ],
            "application/vnd.google.colaboratory.intrinsic+json": {
              "type": "dataframe",
              "summary": "{\n  \"name\": \"combined_value_df\",\n  \"rows\": 1,\n  \"fields\": [\n    {\n      \"column\": \"Player\",\n      \"properties\": {\n        \"dtype\": \"string\",\n        \"num_unique_values\": 1,\n        \"samples\": [\n          \"Shohei Ohtani\"\n        ],\n        \"semantic_type\": \"\",\n        \"description\": \"\"\n      }\n    },\n    {\n      \"column\": \"adjusted_value\",\n      \"properties\": {\n        \"dtype\": \"number\",\n        \"std\": null,\n        \"min\": 18.01,\n        \"max\": 18.01,\n        \"num_unique_values\": 1,\n        \"samples\": [\n          18.01\n        ],\n        \"semantic_type\": \"\",\n        \"description\": \"\"\n      }\n    },\n    {\n      \"column\": \"Auction $\",\n      \"properties\": {\n        \"dtype\": \"number\",\n        \"std\": null,\n        \"min\": 58.44,\n        \"max\": 58.44,\n        \"num_unique_values\": 1,\n        \"samples\": [\n          58.44\n        ],\n        \"semantic_type\": \"\",\n        \"description\": \"\"\n      }\n    }\n  ]\n}"
            }
          },
          "metadata": {},
          "execution_count": 26
        }
      ]
    },
    {
      "cell_type": "code",
      "source": [
        "combined_value_df.loc[(combined_value_df['Player']=='Tarik Skubal'),['Player','adjusted_value','Auction $']].round(2)"
      ],
      "metadata": {
        "colab": {
          "base_uri": "https://localhost:8080/",
          "height": 81
        },
        "id": "mPa1vEmyLRRh",
        "outputId": "8894a727-16af-4512-a06e-48eca5ce33f7"
      },
      "execution_count": 27,
      "outputs": [
        {
          "output_type": "execute_result",
          "data": {
            "text/plain": [
              "           Player  adjusted_value  Auction $\n",
              "619  Tarik Skubal           11.06       26.5"
            ],
            "text/html": [
              "\n",
              "  <div id=\"df-4b505fb6-fffc-4ed7-92ce-ddbed7d96ea9\" class=\"colab-df-container\">\n",
              "    <div>\n",
              "<style scoped>\n",
              "    .dataframe tbody tr th:only-of-type {\n",
              "        vertical-align: middle;\n",
              "    }\n",
              "\n",
              "    .dataframe tbody tr th {\n",
              "        vertical-align: top;\n",
              "    }\n",
              "\n",
              "    .dataframe thead th {\n",
              "        text-align: right;\n",
              "    }\n",
              "</style>\n",
              "<table border=\"1\" class=\"dataframe\">\n",
              "  <thead>\n",
              "    <tr style=\"text-align: right;\">\n",
              "      <th></th>\n",
              "      <th>Player</th>\n",
              "      <th>adjusted_value</th>\n",
              "      <th>Auction $</th>\n",
              "    </tr>\n",
              "  </thead>\n",
              "  <tbody>\n",
              "    <tr>\n",
              "      <th>619</th>\n",
              "      <td>Tarik Skubal</td>\n",
              "      <td>11.06</td>\n",
              "      <td>26.5</td>\n",
              "    </tr>\n",
              "  </tbody>\n",
              "</table>\n",
              "</div>\n",
              "    <div class=\"colab-df-buttons\">\n",
              "\n",
              "  <div class=\"colab-df-container\">\n",
              "    <button class=\"colab-df-convert\" onclick=\"convertToInteractive('df-4b505fb6-fffc-4ed7-92ce-ddbed7d96ea9')\"\n",
              "            title=\"Convert this dataframe to an interactive table.\"\n",
              "            style=\"display:none;\">\n",
              "\n",
              "  <svg xmlns=\"http://www.w3.org/2000/svg\" height=\"24px\" viewBox=\"0 -960 960 960\">\n",
              "    <path d=\"M120-120v-720h720v720H120Zm60-500h600v-160H180v160Zm220 220h160v-160H400v160Zm0 220h160v-160H400v160ZM180-400h160v-160H180v160Zm440 0h160v-160H620v160ZM180-180h160v-160H180v160Zm440 0h160v-160H620v160Z\"/>\n",
              "  </svg>\n",
              "    </button>\n",
              "\n",
              "  <style>\n",
              "    .colab-df-container {\n",
              "      display:flex;\n",
              "      gap: 12px;\n",
              "    }\n",
              "\n",
              "    .colab-df-convert {\n",
              "      background-color: #E8F0FE;\n",
              "      border: none;\n",
              "      border-radius: 50%;\n",
              "      cursor: pointer;\n",
              "      display: none;\n",
              "      fill: #1967D2;\n",
              "      height: 32px;\n",
              "      padding: 0 0 0 0;\n",
              "      width: 32px;\n",
              "    }\n",
              "\n",
              "    .colab-df-convert:hover {\n",
              "      background-color: #E2EBFA;\n",
              "      box-shadow: 0px 1px 2px rgba(60, 64, 67, 0.3), 0px 1px 3px 1px rgba(60, 64, 67, 0.15);\n",
              "      fill: #174EA6;\n",
              "    }\n",
              "\n",
              "    .colab-df-buttons div {\n",
              "      margin-bottom: 4px;\n",
              "    }\n",
              "\n",
              "    [theme=dark] .colab-df-convert {\n",
              "      background-color: #3B4455;\n",
              "      fill: #D2E3FC;\n",
              "    }\n",
              "\n",
              "    [theme=dark] .colab-df-convert:hover {\n",
              "      background-color: #434B5C;\n",
              "      box-shadow: 0px 1px 3px 1px rgba(0, 0, 0, 0.15);\n",
              "      filter: drop-shadow(0px 1px 2px rgba(0, 0, 0, 0.3));\n",
              "      fill: #FFFFFF;\n",
              "    }\n",
              "  </style>\n",
              "\n",
              "    <script>\n",
              "      const buttonEl =\n",
              "        document.querySelector('#df-4b505fb6-fffc-4ed7-92ce-ddbed7d96ea9 button.colab-df-convert');\n",
              "      buttonEl.style.display =\n",
              "        google.colab.kernel.accessAllowed ? 'block' : 'none';\n",
              "\n",
              "      async function convertToInteractive(key) {\n",
              "        const element = document.querySelector('#df-4b505fb6-fffc-4ed7-92ce-ddbed7d96ea9');\n",
              "        const dataTable =\n",
              "          await google.colab.kernel.invokeFunction('convertToInteractive',\n",
              "                                                    [key], {});\n",
              "        if (!dataTable) return;\n",
              "\n",
              "        const docLinkHtml = 'Like what you see? Visit the ' +\n",
              "          '<a target=\"_blank\" href=https://colab.research.google.com/notebooks/data_table.ipynb>data table notebook</a>'\n",
              "          + ' to learn more about interactive tables.';\n",
              "        element.innerHTML = '';\n",
              "        dataTable['output_type'] = 'display_data';\n",
              "        await google.colab.output.renderOutput(dataTable, element);\n",
              "        const docLink = document.createElement('div');\n",
              "        docLink.innerHTML = docLinkHtml;\n",
              "        element.appendChild(docLink);\n",
              "      }\n",
              "    </script>\n",
              "  </div>\n",
              "\n",
              "\n",
              "    </div>\n",
              "  </div>\n"
            ],
            "application/vnd.google.colaboratory.intrinsic+json": {
              "type": "dataframe",
              "summary": "{\n  \"name\": \"combined_value_df\",\n  \"rows\": 1,\n  \"fields\": [\n    {\n      \"column\": \"Player\",\n      \"properties\": {\n        \"dtype\": \"string\",\n        \"num_unique_values\": 1,\n        \"samples\": [\n          \"Tarik Skubal\"\n        ],\n        \"semantic_type\": \"\",\n        \"description\": \"\"\n      }\n    },\n    {\n      \"column\": \"adjusted_value\",\n      \"properties\": {\n        \"dtype\": \"number\",\n        \"std\": null,\n        \"min\": 11.06,\n        \"max\": 11.06,\n        \"num_unique_values\": 1,\n        \"samples\": [\n          11.06\n        ],\n        \"semantic_type\": \"\",\n        \"description\": \"\"\n      }\n    },\n    {\n      \"column\": \"Auction $\",\n      \"properties\": {\n        \"dtype\": \"number\",\n        \"std\": null,\n        \"min\": 26.5,\n        \"max\": 26.5,\n        \"num_unique_values\": 1,\n        \"samples\": [\n          26.5\n        ],\n        \"semantic_type\": \"\",\n        \"description\": \"\"\n      }\n    }\n  ]\n}"
            }
          },
          "metadata": {},
          "execution_count": 27
        }
      ]
    },
    {
      "cell_type": "code",
      "source": [],
      "metadata": {
        "id": "rTXsnbKFN1GA"
      },
      "execution_count": 27,
      "outputs": []
    }
  ]
}